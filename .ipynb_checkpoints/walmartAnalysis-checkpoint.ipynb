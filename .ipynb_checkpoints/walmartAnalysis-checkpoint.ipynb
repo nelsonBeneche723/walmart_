{
 "cells": [
  {
   "cell_type": "markdown",
   "id": "4adead3d-9970-44cf-941e-796ad338cc7c",
   "metadata": {},
   "source": [
    "![](https://corporate.walmart.com/content/corporate/en_us/about/jcr:content/par/grid_4_copy_copy/parsys_tab_1/image.img.jpg/1693432306522.jpg)"
   ]
  },
  {
   "cell_type": "code",
   "execution_count": 34,
   "id": "c9649909-c9fd-4013-b582-70de93cd891e",
   "metadata": {},
   "outputs": [],
   "source": [
    "import matplotlib.pyplot as plt\n",
    "import pandas as pd\n",
    "import numpy as np\n",
    "from scipy.stats import chi2_contingency\n",
    "from sklearn.linear_model import LinearRegression\n",
    "from sklearn.model_selection import train_test_split\n",
    "from sklearn.metrics import mean_squared_error, r2_score\n",
    "import seaborn as sns\n",
    "import datetime\n",
    "import os"
   ]
  },
  {
   "cell_type": "markdown",
   "id": "c5e5da42-c695-4334-9280-a935f14a33fc",
   "metadata": {},
   "source": [
    "##### Chargement du dataset walmart"
   ]
  },
  {
   "cell_type": "code",
   "execution_count": 35,
   "id": "a0424941-08c4-427a-95da-0ddf1dc8c6d1",
   "metadata": {},
   "outputs": [
    {
     "data": {
      "text/html": [
       "<div>\n",
       "<style scoped>\n",
       "    .dataframe tbody tr th:only-of-type {\n",
       "        vertical-align: middle;\n",
       "    }\n",
       "\n",
       "    .dataframe tbody tr th {\n",
       "        vertical-align: top;\n",
       "    }\n",
       "\n",
       "    .dataframe thead th {\n",
       "        text-align: right;\n",
       "    }\n",
       "</style>\n",
       "<table border=\"1\" class=\"dataframe\">\n",
       "  <thead>\n",
       "    <tr style=\"text-align: right;\">\n",
       "      <th></th>\n",
       "      <th>Invoice ID</th>\n",
       "      <th>Branch</th>\n",
       "      <th>City</th>\n",
       "      <th>Customer type</th>\n",
       "      <th>Gender</th>\n",
       "      <th>Product line</th>\n",
       "      <th>Unit price</th>\n",
       "      <th>Quantity</th>\n",
       "      <th>Tax 5%</th>\n",
       "      <th>Total</th>\n",
       "      <th>Date</th>\n",
       "      <th>Time</th>\n",
       "      <th>Payment</th>\n",
       "      <th>cogs</th>\n",
       "      <th>gross margin percentage</th>\n",
       "      <th>gross income</th>\n",
       "      <th>Rating</th>\n",
       "    </tr>\n",
       "  </thead>\n",
       "  <tbody>\n",
       "    <tr>\n",
       "      <th>0</th>\n",
       "      <td>750-67-8428</td>\n",
       "      <td>A</td>\n",
       "      <td>Yangon</td>\n",
       "      <td>Member</td>\n",
       "      <td>Female</td>\n",
       "      <td>Health and beauty</td>\n",
       "      <td>74.69</td>\n",
       "      <td>7</td>\n",
       "      <td>26.1415</td>\n",
       "      <td>548.9715</td>\n",
       "      <td>2019-01-05</td>\n",
       "      <td>13:08:00</td>\n",
       "      <td>Ewallet</td>\n",
       "      <td>522.83</td>\n",
       "      <td>4.761905</td>\n",
       "      <td>26.1415</td>\n",
       "      <td>9.1</td>\n",
       "    </tr>\n",
       "    <tr>\n",
       "      <th>1</th>\n",
       "      <td>226-31-3081</td>\n",
       "      <td>C</td>\n",
       "      <td>Naypyitaw</td>\n",
       "      <td>Normal</td>\n",
       "      <td>Female</td>\n",
       "      <td>Electronic accessories</td>\n",
       "      <td>15.28</td>\n",
       "      <td>5</td>\n",
       "      <td>3.8200</td>\n",
       "      <td>80.2200</td>\n",
       "      <td>2019-03-08</td>\n",
       "      <td>10:29:00</td>\n",
       "      <td>Cash</td>\n",
       "      <td>76.40</td>\n",
       "      <td>4.761905</td>\n",
       "      <td>3.8200</td>\n",
       "      <td>9.6</td>\n",
       "    </tr>\n",
       "    <tr>\n",
       "      <th>2</th>\n",
       "      <td>631-41-3108</td>\n",
       "      <td>A</td>\n",
       "      <td>Yangon</td>\n",
       "      <td>Normal</td>\n",
       "      <td>Male</td>\n",
       "      <td>Home and lifestyle</td>\n",
       "      <td>46.33</td>\n",
       "      <td>7</td>\n",
       "      <td>16.2155</td>\n",
       "      <td>340.5255</td>\n",
       "      <td>2019-03-03</td>\n",
       "      <td>13:23:00</td>\n",
       "      <td>Credit card</td>\n",
       "      <td>324.31</td>\n",
       "      <td>4.761905</td>\n",
       "      <td>16.2155</td>\n",
       "      <td>7.4</td>\n",
       "    </tr>\n",
       "    <tr>\n",
       "      <th>3</th>\n",
       "      <td>123-19-1176</td>\n",
       "      <td>A</td>\n",
       "      <td>Yangon</td>\n",
       "      <td>Member</td>\n",
       "      <td>Male</td>\n",
       "      <td>Health and beauty</td>\n",
       "      <td>58.22</td>\n",
       "      <td>8</td>\n",
       "      <td>23.2880</td>\n",
       "      <td>489.0480</td>\n",
       "      <td>2019-01-27</td>\n",
       "      <td>20:33:00</td>\n",
       "      <td>Ewallet</td>\n",
       "      <td>465.76</td>\n",
       "      <td>4.761905</td>\n",
       "      <td>23.2880</td>\n",
       "      <td>8.4</td>\n",
       "    </tr>\n",
       "    <tr>\n",
       "      <th>4</th>\n",
       "      <td>373-73-7910</td>\n",
       "      <td>A</td>\n",
       "      <td>Yangon</td>\n",
       "      <td>Normal</td>\n",
       "      <td>Male</td>\n",
       "      <td>Sports and travel</td>\n",
       "      <td>86.31</td>\n",
       "      <td>7</td>\n",
       "      <td>30.2085</td>\n",
       "      <td>634.3785</td>\n",
       "      <td>2019-02-08</td>\n",
       "      <td>10:37:00</td>\n",
       "      <td>Ewallet</td>\n",
       "      <td>604.17</td>\n",
       "      <td>4.761905</td>\n",
       "      <td>30.2085</td>\n",
       "      <td>5.3</td>\n",
       "    </tr>\n",
       "  </tbody>\n",
       "</table>\n",
       "</div>"
      ],
      "text/plain": [
       "    Invoice ID Branch       City Customer type  Gender  \\\n",
       "0  750-67-8428      A     Yangon        Member  Female   \n",
       "1  226-31-3081      C  Naypyitaw        Normal  Female   \n",
       "2  631-41-3108      A     Yangon        Normal    Male   \n",
       "3  123-19-1176      A     Yangon        Member    Male   \n",
       "4  373-73-7910      A     Yangon        Normal    Male   \n",
       "\n",
       "             Product line  Unit price  Quantity   Tax 5%     Total  \\\n",
       "0       Health and beauty       74.69         7  26.1415  548.9715   \n",
       "1  Electronic accessories       15.28         5   3.8200   80.2200   \n",
       "2      Home and lifestyle       46.33         7  16.2155  340.5255   \n",
       "3       Health and beauty       58.22         8  23.2880  489.0480   \n",
       "4       Sports and travel       86.31         7  30.2085  634.3785   \n",
       "\n",
       "         Date      Time      Payment    cogs  gross margin percentage  \\\n",
       "0  2019-01-05  13:08:00      Ewallet  522.83                 4.761905   \n",
       "1  2019-03-08  10:29:00         Cash   76.40                 4.761905   \n",
       "2  2019-03-03  13:23:00  Credit card  324.31                 4.761905   \n",
       "3  2019-01-27  20:33:00      Ewallet  465.76                 4.761905   \n",
       "4  2019-02-08  10:37:00      Ewallet  604.17                 4.761905   \n",
       "\n",
       "   gross income  Rating  \n",
       "0       26.1415     9.1  \n",
       "1        3.8200     9.6  \n",
       "2       16.2155     7.4  \n",
       "3       23.2880     8.4  \n",
       "4       30.2085     5.3  "
      ]
     },
     "execution_count": 35,
     "metadata": {},
     "output_type": "execute_result"
    }
   ],
   "source": [
    "df = pd.read_csv(\"Walmart Sales Data.csv\")\n",
    "df.head(5)"
   ]
  },
  {
   "cell_type": "code",
   "execution_count": 36,
   "id": "55a71424-517d-489d-a54f-f3f1270f83e9",
   "metadata": {},
   "outputs": [
    {
     "name": "stdout",
     "output_type": "stream",
     "text": [
      "Ligne X Colonne: (1000, 17)\n",
      "-------Les types de colonnes-----------\n",
      "Invoice ID                  object\n",
      "Branch                      object\n",
      "City                        object\n",
      "Customer type               object\n",
      "Gender                      object\n",
      "Product line                object\n",
      "Unit price                 float64\n",
      "Quantity                     int64\n",
      "Tax 5%                     float64\n",
      "Total                      float64\n",
      "Date                        object\n",
      "Time                        object\n",
      "Payment                     object\n",
      "cogs                       float64\n",
      "gross margin percentage    float64\n",
      "gross income               float64\n",
      "Rating                     float64\n",
      "dtype: object\n"
     ]
    },
    {
     "data": {
      "text/html": [
       "<div>\n",
       "<style scoped>\n",
       "    .dataframe tbody tr th:only-of-type {\n",
       "        vertical-align: middle;\n",
       "    }\n",
       "\n",
       "    .dataframe tbody tr th {\n",
       "        vertical-align: top;\n",
       "    }\n",
       "\n",
       "    .dataframe thead th {\n",
       "        text-align: right;\n",
       "    }\n",
       "</style>\n",
       "<table border=\"1\" class=\"dataframe\">\n",
       "  <thead>\n",
       "    <tr style=\"text-align: right;\">\n",
       "      <th></th>\n",
       "      <th>Invoice ID</th>\n",
       "      <th>Branch</th>\n",
       "      <th>City</th>\n",
       "      <th>Customer type</th>\n",
       "      <th>Gender</th>\n",
       "      <th>Product line</th>\n",
       "      <th>Unit price</th>\n",
       "      <th>Quantity</th>\n",
       "      <th>Tax 5%</th>\n",
       "      <th>Total</th>\n",
       "      <th>Date</th>\n",
       "      <th>Time</th>\n",
       "      <th>Payment</th>\n",
       "      <th>cogs</th>\n",
       "      <th>gross margin percentage</th>\n",
       "      <th>gross income</th>\n",
       "      <th>Rating</th>\n",
       "    </tr>\n",
       "  </thead>\n",
       "  <tbody>\n",
       "    <tr>\n",
       "      <th>count</th>\n",
       "      <td>1000</td>\n",
       "      <td>1000</td>\n",
       "      <td>1000</td>\n",
       "      <td>1000</td>\n",
       "      <td>1000</td>\n",
       "      <td>1000</td>\n",
       "      <td>1000.000000</td>\n",
       "      <td>1000.000000</td>\n",
       "      <td>1000.000000</td>\n",
       "      <td>1000.000000</td>\n",
       "      <td>1000</td>\n",
       "      <td>1000</td>\n",
       "      <td>1000</td>\n",
       "      <td>1000.00000</td>\n",
       "      <td>1000.000000</td>\n",
       "      <td>1000.000000</td>\n",
       "      <td>1000.00000</td>\n",
       "    </tr>\n",
       "    <tr>\n",
       "      <th>unique</th>\n",
       "      <td>1000</td>\n",
       "      <td>3</td>\n",
       "      <td>3</td>\n",
       "      <td>2</td>\n",
       "      <td>2</td>\n",
       "      <td>6</td>\n",
       "      <td>NaN</td>\n",
       "      <td>NaN</td>\n",
       "      <td>NaN</td>\n",
       "      <td>NaN</td>\n",
       "      <td>89</td>\n",
       "      <td>506</td>\n",
       "      <td>3</td>\n",
       "      <td>NaN</td>\n",
       "      <td>NaN</td>\n",
       "      <td>NaN</td>\n",
       "      <td>NaN</td>\n",
       "    </tr>\n",
       "    <tr>\n",
       "      <th>top</th>\n",
       "      <td>750-67-8428</td>\n",
       "      <td>A</td>\n",
       "      <td>Yangon</td>\n",
       "      <td>Member</td>\n",
       "      <td>Female</td>\n",
       "      <td>Fashion accessories</td>\n",
       "      <td>NaN</td>\n",
       "      <td>NaN</td>\n",
       "      <td>NaN</td>\n",
       "      <td>NaN</td>\n",
       "      <td>2019-02-07</td>\n",
       "      <td>19:48:00</td>\n",
       "      <td>Ewallet</td>\n",
       "      <td>NaN</td>\n",
       "      <td>NaN</td>\n",
       "      <td>NaN</td>\n",
       "      <td>NaN</td>\n",
       "    </tr>\n",
       "    <tr>\n",
       "      <th>freq</th>\n",
       "      <td>1</td>\n",
       "      <td>340</td>\n",
       "      <td>340</td>\n",
       "      <td>501</td>\n",
       "      <td>501</td>\n",
       "      <td>178</td>\n",
       "      <td>NaN</td>\n",
       "      <td>NaN</td>\n",
       "      <td>NaN</td>\n",
       "      <td>NaN</td>\n",
       "      <td>20</td>\n",
       "      <td>7</td>\n",
       "      <td>345</td>\n",
       "      <td>NaN</td>\n",
       "      <td>NaN</td>\n",
       "      <td>NaN</td>\n",
       "      <td>NaN</td>\n",
       "    </tr>\n",
       "    <tr>\n",
       "      <th>mean</th>\n",
       "      <td>NaN</td>\n",
       "      <td>NaN</td>\n",
       "      <td>NaN</td>\n",
       "      <td>NaN</td>\n",
       "      <td>NaN</td>\n",
       "      <td>NaN</td>\n",
       "      <td>55.672130</td>\n",
       "      <td>5.510000</td>\n",
       "      <td>15.379369</td>\n",
       "      <td>322.966749</td>\n",
       "      <td>NaN</td>\n",
       "      <td>NaN</td>\n",
       "      <td>NaN</td>\n",
       "      <td>307.58738</td>\n",
       "      <td>4.761905</td>\n",
       "      <td>15.379369</td>\n",
       "      <td>6.97270</td>\n",
       "    </tr>\n",
       "    <tr>\n",
       "      <th>std</th>\n",
       "      <td>NaN</td>\n",
       "      <td>NaN</td>\n",
       "      <td>NaN</td>\n",
       "      <td>NaN</td>\n",
       "      <td>NaN</td>\n",
       "      <td>NaN</td>\n",
       "      <td>26.494628</td>\n",
       "      <td>2.923431</td>\n",
       "      <td>11.708825</td>\n",
       "      <td>245.885335</td>\n",
       "      <td>NaN</td>\n",
       "      <td>NaN</td>\n",
       "      <td>NaN</td>\n",
       "      <td>234.17651</td>\n",
       "      <td>0.000000</td>\n",
       "      <td>11.708825</td>\n",
       "      <td>1.71858</td>\n",
       "    </tr>\n",
       "    <tr>\n",
       "      <th>min</th>\n",
       "      <td>NaN</td>\n",
       "      <td>NaN</td>\n",
       "      <td>NaN</td>\n",
       "      <td>NaN</td>\n",
       "      <td>NaN</td>\n",
       "      <td>NaN</td>\n",
       "      <td>10.080000</td>\n",
       "      <td>1.000000</td>\n",
       "      <td>0.508500</td>\n",
       "      <td>10.678500</td>\n",
       "      <td>NaN</td>\n",
       "      <td>NaN</td>\n",
       "      <td>NaN</td>\n",
       "      <td>10.17000</td>\n",
       "      <td>4.761905</td>\n",
       "      <td>0.508500</td>\n",
       "      <td>4.00000</td>\n",
       "    </tr>\n",
       "    <tr>\n",
       "      <th>25%</th>\n",
       "      <td>NaN</td>\n",
       "      <td>NaN</td>\n",
       "      <td>NaN</td>\n",
       "      <td>NaN</td>\n",
       "      <td>NaN</td>\n",
       "      <td>NaN</td>\n",
       "      <td>32.875000</td>\n",
       "      <td>3.000000</td>\n",
       "      <td>5.924875</td>\n",
       "      <td>124.422375</td>\n",
       "      <td>NaN</td>\n",
       "      <td>NaN</td>\n",
       "      <td>NaN</td>\n",
       "      <td>118.49750</td>\n",
       "      <td>4.761905</td>\n",
       "      <td>5.924875</td>\n",
       "      <td>5.50000</td>\n",
       "    </tr>\n",
       "    <tr>\n",
       "      <th>50%</th>\n",
       "      <td>NaN</td>\n",
       "      <td>NaN</td>\n",
       "      <td>NaN</td>\n",
       "      <td>NaN</td>\n",
       "      <td>NaN</td>\n",
       "      <td>NaN</td>\n",
       "      <td>55.230000</td>\n",
       "      <td>5.000000</td>\n",
       "      <td>12.088000</td>\n",
       "      <td>253.848000</td>\n",
       "      <td>NaN</td>\n",
       "      <td>NaN</td>\n",
       "      <td>NaN</td>\n",
       "      <td>241.76000</td>\n",
       "      <td>4.761905</td>\n",
       "      <td>12.088000</td>\n",
       "      <td>7.00000</td>\n",
       "    </tr>\n",
       "    <tr>\n",
       "      <th>75%</th>\n",
       "      <td>NaN</td>\n",
       "      <td>NaN</td>\n",
       "      <td>NaN</td>\n",
       "      <td>NaN</td>\n",
       "      <td>NaN</td>\n",
       "      <td>NaN</td>\n",
       "      <td>77.935000</td>\n",
       "      <td>8.000000</td>\n",
       "      <td>22.445250</td>\n",
       "      <td>471.350250</td>\n",
       "      <td>NaN</td>\n",
       "      <td>NaN</td>\n",
       "      <td>NaN</td>\n",
       "      <td>448.90500</td>\n",
       "      <td>4.761905</td>\n",
       "      <td>22.445250</td>\n",
       "      <td>8.50000</td>\n",
       "    </tr>\n",
       "    <tr>\n",
       "      <th>max</th>\n",
       "      <td>NaN</td>\n",
       "      <td>NaN</td>\n",
       "      <td>NaN</td>\n",
       "      <td>NaN</td>\n",
       "      <td>NaN</td>\n",
       "      <td>NaN</td>\n",
       "      <td>99.960000</td>\n",
       "      <td>10.000000</td>\n",
       "      <td>49.650000</td>\n",
       "      <td>1042.650000</td>\n",
       "      <td>NaN</td>\n",
       "      <td>NaN</td>\n",
       "      <td>NaN</td>\n",
       "      <td>993.00000</td>\n",
       "      <td>4.761905</td>\n",
       "      <td>49.650000</td>\n",
       "      <td>10.00000</td>\n",
       "    </tr>\n",
       "  </tbody>\n",
       "</table>\n",
       "</div>"
      ],
      "text/plain": [
       "         Invoice ID Branch    City Customer type  Gender         Product line  \\\n",
       "count          1000   1000    1000          1000    1000                 1000   \n",
       "unique         1000      3       3             2       2                    6   \n",
       "top     750-67-8428      A  Yangon        Member  Female  Fashion accessories   \n",
       "freq              1    340     340           501     501                  178   \n",
       "mean            NaN    NaN     NaN           NaN     NaN                  NaN   \n",
       "std             NaN    NaN     NaN           NaN     NaN                  NaN   \n",
       "min             NaN    NaN     NaN           NaN     NaN                  NaN   \n",
       "25%             NaN    NaN     NaN           NaN     NaN                  NaN   \n",
       "50%             NaN    NaN     NaN           NaN     NaN                  NaN   \n",
       "75%             NaN    NaN     NaN           NaN     NaN                  NaN   \n",
       "max             NaN    NaN     NaN           NaN     NaN                  NaN   \n",
       "\n",
       "         Unit price     Quantity       Tax 5%        Total        Date  \\\n",
       "count   1000.000000  1000.000000  1000.000000  1000.000000        1000   \n",
       "unique          NaN          NaN          NaN          NaN          89   \n",
       "top             NaN          NaN          NaN          NaN  2019-02-07   \n",
       "freq            NaN          NaN          NaN          NaN          20   \n",
       "mean      55.672130     5.510000    15.379369   322.966749         NaN   \n",
       "std       26.494628     2.923431    11.708825   245.885335         NaN   \n",
       "min       10.080000     1.000000     0.508500    10.678500         NaN   \n",
       "25%       32.875000     3.000000     5.924875   124.422375         NaN   \n",
       "50%       55.230000     5.000000    12.088000   253.848000         NaN   \n",
       "75%       77.935000     8.000000    22.445250   471.350250         NaN   \n",
       "max       99.960000    10.000000    49.650000  1042.650000         NaN   \n",
       "\n",
       "            Time  Payment        cogs  gross margin percentage  gross income  \\\n",
       "count       1000     1000  1000.00000              1000.000000   1000.000000   \n",
       "unique       506        3         NaN                      NaN           NaN   \n",
       "top     19:48:00  Ewallet         NaN                      NaN           NaN   \n",
       "freq           7      345         NaN                      NaN           NaN   \n",
       "mean         NaN      NaN   307.58738                 4.761905     15.379369   \n",
       "std          NaN      NaN   234.17651                 0.000000     11.708825   \n",
       "min          NaN      NaN    10.17000                 4.761905      0.508500   \n",
       "25%          NaN      NaN   118.49750                 4.761905      5.924875   \n",
       "50%          NaN      NaN   241.76000                 4.761905     12.088000   \n",
       "75%          NaN      NaN   448.90500                 4.761905     22.445250   \n",
       "max          NaN      NaN   993.00000                 4.761905     49.650000   \n",
       "\n",
       "            Rating  \n",
       "count   1000.00000  \n",
       "unique         NaN  \n",
       "top            NaN  \n",
       "freq           NaN  \n",
       "mean       6.97270  \n",
       "std        1.71858  \n",
       "min        4.00000  \n",
       "25%        5.50000  \n",
       "50%        7.00000  \n",
       "75%        8.50000  \n",
       "max       10.00000  "
      ]
     },
     "execution_count": 36,
     "metadata": {},
     "output_type": "execute_result"
    }
   ],
   "source": [
    "print(f\"Ligne X Colonne: {df.shape}\")\n",
    "print('-------Les types de colonnes-----------')\n",
    "print(df.dtypes)\n",
    "df.describe(include='all')"
   ]
  },
  {
   "cell_type": "code",
   "execution_count": 37,
   "id": "c5d3c837-ed8a-4c74-ab6b-a69404a71958",
   "metadata": {},
   "outputs": [
    {
     "name": "stdout",
     "output_type": "stream",
     "text": [
      "Series([], dtype: float64)\n"
     ]
    }
   ],
   "source": [
    "# verifier les valeurs manquantes\n",
    "valeursmanquantes = df.isnull().sum()/len(df)\n",
    "print(valeursmanquantes[valeursmanquantes>0])"
   ]
  },
  {
   "cell_type": "code",
   "execution_count": 38,
   "id": "5d429eff-8a6b-400a-8a94-b32b8ed6ab50",
   "metadata": {},
   "outputs": [
    {
     "data": {
      "text/plain": [
       "Date    object\n",
       "dtype: object"
      ]
     },
     "execution_count": 38,
     "metadata": {},
     "output_type": "execute_result"
    }
   ],
   "source": [
    "# changer les type de colonnes\n",
    "df[['Date']].dtypes"
   ]
  },
  {
   "cell_type": "code",
   "execution_count": 39,
   "id": "45923a1c-0706-4d25-aa60-77f4c8094f7a",
   "metadata": {},
   "outputs": [],
   "source": [
    "df['Date'] = pd.to_datetime(df['Date'], format='%Y-%m-%d')"
   ]
  },
  {
   "cell_type": "code",
   "execution_count": 40,
   "id": "0d71ff9c-c5bb-439e-8054-b2991b42bf4a",
   "metadata": {},
   "outputs": [
    {
     "data": {
      "text/plain": [
       "0      2019\n",
       "1      2019\n",
       "2      2019\n",
       "3      2019\n",
       "4      2019\n",
       "       ... \n",
       "995    2019\n",
       "996    2019\n",
       "997    2019\n",
       "998    2019\n",
       "999    2019\n",
       "Name: Date, Length: 1000, dtype: int32"
      ]
     },
     "execution_count": 40,
     "metadata": {},
     "output_type": "execute_result"
    }
   ],
   "source": [
    "df['Date'].dt.year"
   ]
  },
  {
   "cell_type": "code",
   "execution_count": 41,
   "id": "767c07ef-8f75-4e76-925f-fd27ff59ccc6",
   "metadata": {},
   "outputs": [
    {
     "name": "stdout",
     "output_type": "stream",
     "text": [
      "Somme des colonnes dupliques:0\n"
     ]
    },
    {
     "data": {
      "text/html": [
       "<div>\n",
       "<style scoped>\n",
       "    .dataframe tbody tr th:only-of-type {\n",
       "        vertical-align: middle;\n",
       "    }\n",
       "\n",
       "    .dataframe tbody tr th {\n",
       "        vertical-align: top;\n",
       "    }\n",
       "\n",
       "    .dataframe thead th {\n",
       "        text-align: right;\n",
       "    }\n",
       "</style>\n",
       "<table border=\"1\" class=\"dataframe\">\n",
       "  <thead>\n",
       "    <tr style=\"text-align: right;\">\n",
       "      <th></th>\n",
       "      <th>Invoice ID</th>\n",
       "      <th>Branch</th>\n",
       "      <th>City</th>\n",
       "      <th>Customer type</th>\n",
       "      <th>Gender</th>\n",
       "      <th>Product line</th>\n",
       "      <th>Unit price</th>\n",
       "      <th>Quantity</th>\n",
       "      <th>Tax 5%</th>\n",
       "      <th>Total</th>\n",
       "      <th>Date</th>\n",
       "      <th>Time</th>\n",
       "      <th>Payment</th>\n",
       "      <th>cogs</th>\n",
       "      <th>gross margin percentage</th>\n",
       "      <th>gross income</th>\n",
       "      <th>Rating</th>\n",
       "    </tr>\n",
       "  </thead>\n",
       "  <tbody>\n",
       "  </tbody>\n",
       "</table>\n",
       "</div>"
      ],
      "text/plain": [
       "Empty DataFrame\n",
       "Columns: [Invoice ID, Branch, City, Customer type, Gender, Product line, Unit price, Quantity, Tax 5%, Total, Date, Time, Payment, cogs, gross margin percentage, gross income, Rating]\n",
       "Index: []"
      ]
     },
     "execution_count": 41,
     "metadata": {},
     "output_type": "execute_result"
    }
   ],
   "source": [
    "# Cette vérification est utile si on veut s'assurer qu'il n'y a pas de doublons dans les identifiants uniques.\n",
    "print(f'Somme des colonnes dupliques:{df['Invoice ID'].duplicated().sum()}')\n",
    "# Cette méthode permet de repérer des lignes qui seraient complètement identiques sur toutes les colonnes.\n",
    "df[df.duplicated()]"
   ]
  },
  {
   "cell_type": "code",
   "execution_count": 42,
   "id": "b28592ca-9df8-4714-9eb0-0c5c08c1c8d3",
   "metadata": {},
   "outputs": [
    {
     "data": {
      "text/html": [
       "<div>\n",
       "<style scoped>\n",
       "    .dataframe tbody tr th:only-of-type {\n",
       "        vertical-align: middle;\n",
       "    }\n",
       "\n",
       "    .dataframe tbody tr th {\n",
       "        vertical-align: top;\n",
       "    }\n",
       "\n",
       "    .dataframe thead th {\n",
       "        text-align: right;\n",
       "    }\n",
       "</style>\n",
       "<table border=\"1\" class=\"dataframe\">\n",
       "  <thead>\n",
       "    <tr style=\"text-align: right;\">\n",
       "      <th></th>\n",
       "      <th>Invoice ID</th>\n",
       "      <th>Branch</th>\n",
       "      <th>City</th>\n",
       "      <th>Customer type</th>\n",
       "      <th>Gender</th>\n",
       "      <th>Product line</th>\n",
       "      <th>Unit price</th>\n",
       "      <th>Quantity</th>\n",
       "      <th>Tax 5%</th>\n",
       "      <th>Total</th>\n",
       "      <th>Date</th>\n",
       "      <th>Time</th>\n",
       "      <th>Payment</th>\n",
       "      <th>cogs</th>\n",
       "      <th>gross margin percentage</th>\n",
       "      <th>gross income</th>\n",
       "      <th>Rating</th>\n",
       "    </tr>\n",
       "  </thead>\n",
       "  <tbody>\n",
       "  </tbody>\n",
       "</table>\n",
       "</div>"
      ],
      "text/plain": [
       "Empty DataFrame\n",
       "Columns: [Invoice ID, Branch, City, Customer type, Gender, Product line, Unit price, Quantity, Tax 5%, Total, Date, Time, Payment, cogs, gross margin percentage, gross income, Rating]\n",
       "Index: []"
      ]
     },
     "execution_count": 42,
     "metadata": {},
     "output_type": "execute_result"
    }
   ],
   "source": [
    "df.loc[df['Invoice ID'].duplicated(keep=False), :]"
   ]
  },
  {
   "cell_type": "code",
   "execution_count": 43,
   "id": "09c6d72d-6c0e-45da-a334-9145828f56a4",
   "metadata": {},
   "outputs": [],
   "source": [
    "# standartisation les colonnes en remplacant les espaces par un underscore\n",
    "df.columns = df.columns.str.replace(' ', '_')"
   ]
  },
  {
   "cell_type": "code",
   "execution_count": 44,
   "id": "8d293d53-7505-4970-8fcf-6992ed6a6cc0",
   "metadata": {},
   "outputs": [
    {
     "data": {
      "text/html": [
       "<div>\n",
       "<style scoped>\n",
       "    .dataframe tbody tr th:only-of-type {\n",
       "        vertical-align: middle;\n",
       "    }\n",
       "\n",
       "    .dataframe tbody tr th {\n",
       "        vertical-align: top;\n",
       "    }\n",
       "\n",
       "    .dataframe thead th {\n",
       "        text-align: right;\n",
       "    }\n",
       "</style>\n",
       "<table border=\"1\" class=\"dataframe\">\n",
       "  <thead>\n",
       "    <tr style=\"text-align: right;\">\n",
       "      <th></th>\n",
       "      <th>Unit_price</th>\n",
       "      <th>Total</th>\n",
       "      <th>Rating</th>\n",
       "    </tr>\n",
       "  </thead>\n",
       "  <tbody>\n",
       "    <tr>\n",
       "      <th>count</th>\n",
       "      <td>1000.000000</td>\n",
       "      <td>1000.000000</td>\n",
       "      <td>1000.00000</td>\n",
       "    </tr>\n",
       "    <tr>\n",
       "      <th>mean</th>\n",
       "      <td>55.672130</td>\n",
       "      <td>322.966749</td>\n",
       "      <td>6.97270</td>\n",
       "    </tr>\n",
       "    <tr>\n",
       "      <th>std</th>\n",
       "      <td>26.494628</td>\n",
       "      <td>245.885335</td>\n",
       "      <td>1.71858</td>\n",
       "    </tr>\n",
       "    <tr>\n",
       "      <th>min</th>\n",
       "      <td>10.080000</td>\n",
       "      <td>10.678500</td>\n",
       "      <td>4.00000</td>\n",
       "    </tr>\n",
       "    <tr>\n",
       "      <th>25%</th>\n",
       "      <td>32.875000</td>\n",
       "      <td>124.422375</td>\n",
       "      <td>5.50000</td>\n",
       "    </tr>\n",
       "    <tr>\n",
       "      <th>50%</th>\n",
       "      <td>55.230000</td>\n",
       "      <td>253.848000</td>\n",
       "      <td>7.00000</td>\n",
       "    </tr>\n",
       "    <tr>\n",
       "      <th>75%</th>\n",
       "      <td>77.935000</td>\n",
       "      <td>471.350250</td>\n",
       "      <td>8.50000</td>\n",
       "    </tr>\n",
       "    <tr>\n",
       "      <th>max</th>\n",
       "      <td>99.960000</td>\n",
       "      <td>1042.650000</td>\n",
       "      <td>10.00000</td>\n",
       "    </tr>\n",
       "  </tbody>\n",
       "</table>\n",
       "</div>"
      ],
      "text/plain": [
       "        Unit_price        Total      Rating\n",
       "count  1000.000000  1000.000000  1000.00000\n",
       "mean     55.672130   322.966749     6.97270\n",
       "std      26.494628   245.885335     1.71858\n",
       "min      10.080000    10.678500     4.00000\n",
       "25%      32.875000   124.422375     5.50000\n",
       "50%      55.230000   253.848000     7.00000\n",
       "75%      77.935000   471.350250     8.50000\n",
       "max      99.960000  1042.650000    10.00000"
      ]
     },
     "execution_count": 44,
     "metadata": {},
     "output_type": "execute_result"
    }
   ],
   "source": [
    "df[['Unit_price', 'Total', 'Rating']].describe()"
   ]
  },
  {
   "cell_type": "markdown",
   "id": "bc54edc0-0f0d-4a19-a566-ffd90e91fe18",
   "metadata": {},
   "source": [
    "##### 1. Quels sont les quantites de produit les plus vendus par catégorie ?"
   ]
  },
  {
   "cell_type": "code",
   "execution_count": 45,
   "id": "c828fdb6-650e-42b2-9a9e-abeb86fc2795",
   "metadata": {},
   "outputs": [
    {
     "name": "stdout",
     "output_type": "stream",
     "text": [
      "Product_line\n",
      "Electronic accessories    971\n",
      "Food and beverages        952\n",
      "Sports and travel         920\n",
      "Home and lifestyle        911\n",
      "Fashion accessories       902\n",
      "Health and beauty         854\n",
      "Name: Quantity, dtype: int64\n"
     ]
    },
    {
     "data": {
      "image/png": "[encoded data removed]",
      "text/plain": [
       "<Figure size 640x480 with 1 Axes>"
      ]
     },
     "metadata": {},
     "output_type": "display_data"
    }
   ],
   "source": [
    "prodvenducateg = df.groupby('Product_line')['Quantity'].sum().sort_values(ascending=False)\n",
    "print(prodvenducateg)\n",
    "prodvenducateg.plot(kind='bar', stacked=True, color='mediumpurple', title='Les produits les plus vendus par chaque categorie.')\n",
    "plt.xlabel('Ligne de produit')\n",
    "plt.ylabel('Quantite')\n",
    "plt.show()"
   ]
  },
  {
   "cell_type": "markdown",
   "id": "d137fd61-6433-4b7b-bdc7-e5f74e4e7c30",
   "metadata": {},
   "source": [
    "##### 2. Moyenne de vente par facture"
   ]
  },
  {
   "cell_type": "code",
   "execution_count": 46,
   "id": "ff5ef881-1ad8-4df7-a96c-d2b0ff9b0f28",
   "metadata": {},
   "outputs": [
    {
     "name": "stdout",
     "output_type": "stream",
     "text": [
      "La moyenne des ventes totales par facture est : 322.967\n"
     ]
    }
   ],
   "source": [
    "average_sales_per_invoice = df['Total'].mean()\n",
    "print(f\"La moyenne des ventes totales par facture est : {average_sales_per_invoice:.3f}\")"
   ]
  },
  {
   "cell_type": "markdown",
   "id": "b09c5d80-6c24-4db7-8301-f210b5953f68",
   "metadata": {},
   "source": [
    "##### ville ou branche qui ont les ventes les plus eleves."
   ]
  },
  {
   "cell_type": "code",
   "execution_count": 47,
   "id": "8b7b689d-c696-43ab-851a-dd2aeffdd690",
   "metadata": {},
   "outputs": [
    {
     "name": "stdout",
     "output_type": "stream",
     "text": [
      "vente par ville:--\n",
      "City\n",
      "Naypyitaw    110568.7065\n",
      "Yangon       106200.3705\n",
      "Mandalay     106197.6720\n",
      "Name: Total, dtype: float64\n"
     ]
    },
    {
     "data": {
      "image/png": "[encoded data removed]",
      "text/plain": [
       "<Figure size 640x480 with 1 Axes>"
      ]
     },
     "metadata": {},
     "output_type": "display_data"
    }
   ],
   "source": [
    "cityeleve = df.groupby('City')['Total'].sum().sort_values(ascending=False)\n",
    "cityeleve.plot(kind='bar')\n",
    "print('vente par ville:--')\n",
    "print(cityeleve)\n"
   ]
  },
  {
   "cell_type": "code",
   "execution_count": 48,
   "id": "8c07c458-bfcf-4d2c-b434-be6eba7e16f1",
   "metadata": {},
   "outputs": [
    {
     "name": "stdout",
     "output_type": "stream",
     "text": [
      "Branch\n",
      "C    110568.7065\n",
      "A    106200.3705\n",
      "B    106197.6720\n",
      "Name: Total, dtype: float64\n"
     ]
    },
    {
     "data": {
      "text/plain": [
       "<Axes: xlabel='Branch'>"
      ]
     },
     "execution_count": 48,
     "metadata": {},
     "output_type": "execute_result"
    },
    {
     "data": {
      "image/png": "[encoded data removed]",
      "text/plain": [
       "<Figure size 640x480 with 1 Axes>"
      ]
     },
     "metadata": {},
     "output_type": "display_data"
    }
   ],
   "source": [
    "brancheleve = df.groupby('Branch')['Total'].sum().sort_values(ascending=False)\n",
    "print(brancheleve)\n",
    "brancheleve.plot(kind='bar')"
   ]
  },
  {
   "cell_type": "markdown",
   "id": "a1c72bec-ebd6-4161-9c3c-c746004bc098",
   "metadata": {},
   "source": [
    "##### 3. les clients reguliers achetent t-ils en plus grande quantite que le nouveaux clients"
   ]
  },
  {
   "cell_type": "code",
   "execution_count": 49,
   "id": "eba51868-7939-4399-8ad2-4273fb734ef3",
   "metadata": {},
   "outputs": [
    {
     "name": "stdout",
     "output_type": "stream",
     "text": [
      "Quantité moyenne achetée par type de client :\n",
      "Customer_type\n",
      "Member    5.558882\n",
      "Normal    5.460922\n",
      "Name: Quantity, dtype: float64\n"
     ]
    },
    {
     "name": "stderr",
     "output_type": "stream",
     "text": [
      "C:\\Users\\Nelson Beneche\\AppData\\Local\\Temp\\ipykernel_8984\\2752518552.py:14: FutureWarning: Series.__getitem__ treating keys as positions is deprecated. In a future version, integer keys will always be treated as labels (consistent with DataFrame behavior). To access a value by position, use `ser.iloc[pos]`\n",
      "  plt.bar(['Client Membre','Client Normal'], [average_quantity_by_customer_type[0], average_quantity_by_customer_type[1]], color=('mediumpurple'), width=0.5)\n"
     ]
    },
    {
     "data": {
      "text/plain": [
       "Text(0.5, 1.0, 'Moyenne par client')"
      ]
     },
     "execution_count": 49,
     "metadata": {},
     "output_type": "execute_result"
    },
    {
     "data": {
      "image/png": "[encoded data removed]",
      "text/plain": [
       "<Figure size 640x480 with 1 Axes>"
      ]
     },
     "metadata": {},
     "output_type": "display_data"
    }
   ],
   "source": [
    "# 1 facon\n",
    "# clientregulier = df.loc[df['Customer_type'].isin(['Member'])]\n",
    "# clr = clientregulier['Quantity'].mean()\n",
    "# print(f'Membre:{clr}')\n",
    "# # nouveau client\n",
    "# clientnormal = df.loc[df['Customer_type'].isin(['Normal'])]\n",
    "# cln = clientnormal['Quantity'].mean()\n",
    "# print(f'Normal: {cln}')\n",
    "\n",
    "# 2 facon \n",
    "average_quantity_by_customer_type = df.groupby('Customer_type')['Quantity'].mean()\n",
    "print(\"Quantité moyenne achetée par type de client :\")\n",
    "print(average_quantity_by_customer_type)\n",
    "plt.bar(['Client Membre','Client Normal'], [average_quantity_by_customer_type[0], average_quantity_by_customer_type[1]], color=('mediumpurple'), width=0.5)\n",
    "plt.title('Moyenne par client')"
   ]
  },
  {
   "cell_type": "code",
   "execution_count": null,
   "id": "a40ffae3-71f2-45cd-97a5-cc7735c6c200",
   "metadata": {},
   "outputs": [],
   "source": []
  },
  {
   "cell_type": "markdown",
   "id": "cc3b0228-eb65-4dfa-a65a-e08c507619b6",
   "metadata": {},
   "source": [
    "##### 4. quel mode de paiement le plus utilise"
   ]
  },
  {
   "cell_type": "code",
   "execution_count": 50,
   "id": "31c400fe-ac6a-4d61-ab70-b5ad84b6945a",
   "metadata": {},
   "outputs": [
    {
     "data": {
      "text/html": [
       "<div>\n",
       "<style scoped>\n",
       "    .dataframe tbody tr th:only-of-type {\n",
       "        vertical-align: middle;\n",
       "    }\n",
       "\n",
       "    .dataframe tbody tr th {\n",
       "        vertical-align: top;\n",
       "    }\n",
       "\n",
       "    .dataframe thead th {\n",
       "        text-align: right;\n",
       "    }\n",
       "</style>\n",
       "<table border=\"1\" class=\"dataframe\">\n",
       "  <thead>\n",
       "    <tr style=\"text-align: right;\">\n",
       "      <th></th>\n",
       "      <th>Invoice_ID</th>\n",
       "      <th>Branch</th>\n",
       "      <th>City</th>\n",
       "      <th>Customer_type</th>\n",
       "      <th>Gender</th>\n",
       "      <th>Product_line</th>\n",
       "      <th>Unit_price</th>\n",
       "      <th>Quantity</th>\n",
       "      <th>Tax_5%</th>\n",
       "      <th>Total</th>\n",
       "      <th>Date</th>\n",
       "      <th>Time</th>\n",
       "      <th>Payment</th>\n",
       "      <th>cogs</th>\n",
       "      <th>gross_margin_percentage</th>\n",
       "      <th>gross_income</th>\n",
       "      <th>Rating</th>\n",
       "    </tr>\n",
       "  </thead>\n",
       "  <tbody>\n",
       "    <tr>\n",
       "      <th>0</th>\n",
       "      <td>750-67-8428</td>\n",
       "      <td>A</td>\n",
       "      <td>Yangon</td>\n",
       "      <td>Member</td>\n",
       "      <td>Female</td>\n",
       "      <td>Health and beauty</td>\n",
       "      <td>74.69</td>\n",
       "      <td>7</td>\n",
       "      <td>26.1415</td>\n",
       "      <td>548.9715</td>\n",
       "      <td>2019-01-05</td>\n",
       "      <td>13:08:00</td>\n",
       "      <td>Ewallet</td>\n",
       "      <td>522.83</td>\n",
       "      <td>4.761905</td>\n",
       "      <td>26.1415</td>\n",
       "      <td>9.1</td>\n",
       "    </tr>\n",
       "    <tr>\n",
       "      <th>1</th>\n",
       "      <td>226-31-3081</td>\n",
       "      <td>C</td>\n",
       "      <td>Naypyitaw</td>\n",
       "      <td>Normal</td>\n",
       "      <td>Female</td>\n",
       "      <td>Electronic accessories</td>\n",
       "      <td>15.28</td>\n",
       "      <td>5</td>\n",
       "      <td>3.8200</td>\n",
       "      <td>80.2200</td>\n",
       "      <td>2019-03-08</td>\n",
       "      <td>10:29:00</td>\n",
       "      <td>Cash</td>\n",
       "      <td>76.40</td>\n",
       "      <td>4.761905</td>\n",
       "      <td>3.8200</td>\n",
       "      <td>9.6</td>\n",
       "    </tr>\n",
       "    <tr>\n",
       "      <th>2</th>\n",
       "      <td>631-41-3108</td>\n",
       "      <td>A</td>\n",
       "      <td>Yangon</td>\n",
       "      <td>Normal</td>\n",
       "      <td>Male</td>\n",
       "      <td>Home and lifestyle</td>\n",
       "      <td>46.33</td>\n",
       "      <td>7</td>\n",
       "      <td>16.2155</td>\n",
       "      <td>340.5255</td>\n",
       "      <td>2019-03-03</td>\n",
       "      <td>13:23:00</td>\n",
       "      <td>Credit card</td>\n",
       "      <td>324.31</td>\n",
       "      <td>4.761905</td>\n",
       "      <td>16.2155</td>\n",
       "      <td>7.4</td>\n",
       "    </tr>\n",
       "    <tr>\n",
       "      <th>3</th>\n",
       "      <td>123-19-1176</td>\n",
       "      <td>A</td>\n",
       "      <td>Yangon</td>\n",
       "      <td>Member</td>\n",
       "      <td>Male</td>\n",
       "      <td>Health and beauty</td>\n",
       "      <td>58.22</td>\n",
       "      <td>8</td>\n",
       "      <td>23.2880</td>\n",
       "      <td>489.0480</td>\n",
       "      <td>2019-01-27</td>\n",
       "      <td>20:33:00</td>\n",
       "      <td>Ewallet</td>\n",
       "      <td>465.76</td>\n",
       "      <td>4.761905</td>\n",
       "      <td>23.2880</td>\n",
       "      <td>8.4</td>\n",
       "    </tr>\n",
       "    <tr>\n",
       "      <th>4</th>\n",
       "      <td>373-73-7910</td>\n",
       "      <td>A</td>\n",
       "      <td>Yangon</td>\n",
       "      <td>Normal</td>\n",
       "      <td>Male</td>\n",
       "      <td>Sports and travel</td>\n",
       "      <td>86.31</td>\n",
       "      <td>7</td>\n",
       "      <td>30.2085</td>\n",
       "      <td>634.3785</td>\n",
       "      <td>2019-02-08</td>\n",
       "      <td>10:37:00</td>\n",
       "      <td>Ewallet</td>\n",
       "      <td>604.17</td>\n",
       "      <td>4.761905</td>\n",
       "      <td>30.2085</td>\n",
       "      <td>5.3</td>\n",
       "    </tr>\n",
       "  </tbody>\n",
       "</table>\n",
       "</div>"
      ],
      "text/plain": [
       "    Invoice_ID Branch       City Customer_type  Gender  \\\n",
       "0  750-67-8428      A     Yangon        Member  Female   \n",
       "1  226-31-3081      C  Naypyitaw        Normal  Female   \n",
       "2  631-41-3108      A     Yangon        Normal    Male   \n",
       "3  123-19-1176      A     Yangon        Member    Male   \n",
       "4  373-73-7910      A     Yangon        Normal    Male   \n",
       "\n",
       "             Product_line  Unit_price  Quantity   Tax_5%     Total       Date  \\\n",
       "0       Health and beauty       74.69         7  26.1415  548.9715 2019-01-05   \n",
       "1  Electronic accessories       15.28         5   3.8200   80.2200 2019-03-08   \n",
       "2      Home and lifestyle       46.33         7  16.2155  340.5255 2019-03-03   \n",
       "3       Health and beauty       58.22         8  23.2880  489.0480 2019-01-27   \n",
       "4       Sports and travel       86.31         7  30.2085  634.3785 2019-02-08   \n",
       "\n",
       "       Time      Payment    cogs  gross_margin_percentage  gross_income  \\\n",
       "0  13:08:00      Ewallet  522.83                 4.761905       26.1415   \n",
       "1  10:29:00         Cash   76.40                 4.761905        3.8200   \n",
       "2  13:23:00  Credit card  324.31                 4.761905       16.2155   \n",
       "3  20:33:00      Ewallet  465.76                 4.761905       23.2880   \n",
       "4  10:37:00      Ewallet  604.17                 4.761905       30.2085   \n",
       "\n",
       "   Rating  \n",
       "0     9.1  \n",
       "1     9.6  \n",
       "2     7.4  \n",
       "3     8.4  \n",
       "4     5.3  "
      ]
     },
     "execution_count": 50,
     "metadata": {},
     "output_type": "execute_result"
    }
   ],
   "source": [
    "df.head(5)"
   ]
  },
  {
   "cell_type": "code",
   "execution_count": 51,
   "id": "e4e0dc5e-0ab9-45d5-9882-98e7357e5d64",
   "metadata": {},
   "outputs": [
    {
     "name": "stdout",
     "output_type": "stream",
     "text": [
      "Les types de paiements sont: Ewallet, Cash, Credit card\n",
      "Mode de paiements utilises: Payment\n",
      "Ewallet        345\n",
      "Cash           344\n",
      "Credit card    311\n",
      "Name: count, dtype: int64\n",
      "Le plus utilise: Ewallet\n"
     ]
    }
   ],
   "source": [
    "typepaiement = df['Payment'].unique().tolist()\n",
    "print(f'Les types de paiements sont: {', '.join(typepaiement)}')\n",
    "print(f'Mode de paiements utilises: {df['Payment'].value_counts()}')\n",
    "print(f'Le plus utilise: {df['Payment'].value_counts().idxmax()}')"
   ]
  },
  {
   "cell_type": "markdown",
   "id": "617b3925-3133-4f6f-86e8-61a9be17ca7a",
   "metadata": {},
   "source": [
    "##### 5. 6.\tY a-t-il une différence notable dans les ventes par genre (masculin vs féminin) ?"
   ]
  },
  {
   "cell_type": "code",
   "execution_count": 52,
   "id": "4d026009-826c-4a90-b2d2-dae907328786",
   "metadata": {},
   "outputs": [
    {
     "name": "stdout",
     "output_type": "stream",
     "text": [
      "Gender\n",
      "Female    167882.925\n",
      "Male      155083.824\n",
      "Name: Total, dtype: float64\n"
     ]
    },
    {
     "name": "stderr",
     "output_type": "stream",
     "text": [
      "C:\\Users\\Nelson Beneche\\AppData\\Local\\Temp\\ipykernel_8984\\1378395960.py:4: FutureWarning: Series.__getitem__ treating keys as positions is deprecated. In a future version, integer keys will always be treated as labels (consistent with DataFrame behavior). To access a value by position, use `ser.iloc[pos]`\n",
      "  plt.bar(['Female','Male'], [genre_male_female[0], genre_male_female[1]])\n"
     ]
    },
    {
     "data": {
      "text/plain": [
       "<BarContainer object of 2 artists>"
      ]
     },
     "execution_count": 52,
     "metadata": {},
     "output_type": "execute_result"
    },
    {
     "data": {
      "image/png": "[encoded data removed]",
      "text/plain": [
       "<Figure size 640x480 with 1 Axes>"
      ]
     },
     "metadata": {},
     "output_type": "display_data"
    }
   ],
   "source": [
    "genre_male_female = df.groupby('Gender')['Total'].sum()\n",
    "print(genre_male_female)\n",
    "# visualisation\n",
    "plt.bar(['Female','Male'], [genre_male_female[0], genre_male_female[1]])"
   ]
  },
  {
   "cell_type": "markdown",
   "id": "ebdaf76d-9788-46e4-a463-8c6fe8d816e9",
   "metadata": {},
   "source": [
    "##### 7. Quels sont les jours ou les heures de la journée les plus propices aux ventes ?"
   ]
  },
  {
   "cell_type": "code",
   "execution_count": 53,
   "id": "e8635432-b810-4fc1-97c7-92c54bc6b217",
   "metadata": {},
   "outputs": [
    {
     "name": "stdout",
     "output_type": "stream",
     "text": [
      "Jour_\n",
      "Samedi      56120.8095\n",
      "Mardi       51482.2455\n",
      "Jeudi       45349.2480\n",
      "Dimanche    44457.8925\n",
      "Vendredi    43926.3405\n",
      "Mercredi    43731.1350\n",
      "Lundi       37899.0780\n",
      "Name: Total, dtype: float64\n",
      "Heure\n",
      "19    39699.5130\n",
      "13    34723.2270\n",
      "10    31421.4810\n",
      "15    31179.5085\n",
      "14    30828.3990\n",
      "11    30377.3295\n",
      "12    26065.8825\n",
      "18    26030.3400\n",
      "16    25226.3235\n",
      "17    24445.2180\n",
      "20    22969.5270\n",
      "Name: Total, dtype: float64\n"
     ]
    },
    {
     "data": {
      "image/png": "[encoded data removed]",
      "text/plain": [
       "<Figure size 640x480 with 1 Axes>"
      ]
     },
     "metadata": {},
     "output_type": "display_data"
    }
   ],
   "source": [
    "df[['Date','Time']].head(5)\n",
    "# Recuperer le jour de la semaine dans la colonne (Date)\n",
    "df['datef'] = pd.to_datetime(df['Date'], format='%d-%m-%Y')\n",
    "df['Jour_']= df['datef'].dt.day_name(locale='fr_FR')\n",
    "\n",
    "# df['JourAng']= df['datef'].dt.strftime('%A')\n",
    "# Recuperer le jour de la colonne Date en francais\n",
    "# df['Datefrancais'] = df['Date'].apply(lambda x: format_date(x, format=\"EEEE dd MMMM yyyy\", locale=\"fr_FR\"))\n",
    "\n",
    "# Recuperer l'heure\n",
    "heure = pd.to_datetime(df['Time'], format='%H:%M:%S')\n",
    "df['Heure'] = heure.dt.hour\n",
    "# Regroupement de donnees\n",
    "print(df.groupby('Jour_')['Total'].sum().sort_values(ascending=False))\n",
    "print(df.groupby('Heure')['Total'].sum().sort_values(ascending=False))\n",
    "histog_jour = df.groupby('Jour_')['Total'].sum().sort_values(ascending=False)\n",
    "df[['Jour_','Heure','Time','Date','datef']]\n",
    "histog_jour = histog_jour.plot(kind='bar', color='mediumpurple', title='Somme de vente par jour de la semaine')\n",
    "plt.xlabel('Jour de la semaine')\n",
    "plt.ylabel('Nombre de vente')\n",
    "plt.show()"
   ]
  },
  {
   "cell_type": "markdown",
   "id": "5429fcca-6644-4cf5-bb5c-7dbacbb6a01b",
   "metadata": {},
   "source": [
    "##### 8.\tLes produits ont-ils des marges bénéficiaires similaires, ou y a-t-il des variations importantes ? \n",
    "1.\tComparaison des revenus bruts par catégorie de produit : Identifier les produits générant le plus de revenus bruts.\r\n",
    "2.\tAnalyse des quantités vendues : Voir si certaines catégories ont des ventes plus élevées en termes de quantité.\r\n",
    "3.\tAnalyse des prix unitaires moyens : Comprendre si les produits ont des prix similaires ou des écarts significatifs.\r\n",
    "4.\tPerformance par ville ou succursale : Étudier les performances régionales.\r\n",
    "5.\tRépartition des types de paiement : Identifier les préférences de paiement des clients par catégorie de produit.\r\n"
   ]
  },
  {
   "cell_type": "code",
   "execution_count": 54,
   "id": "6f99f603-d2fe-4c75-aeb3-274f4f997532",
   "metadata": {},
   "outputs": [
    {
     "data": {
      "text/plain": [
       "Product_line\n",
       "Food and beverages        2673.56\n",
       "Sports and travel         2624.90\n",
       "Electronic accessories    2587.50\n",
       "Fashion accessories       2586.00\n",
       "Home and lifestyle        2564.85\n",
       "Health and beauty         2342.56\n",
       "Name: gross_income, dtype: float64"
      ]
     },
     "execution_count": 54,
     "metadata": {},
     "output_type": "execute_result"
    }
   ],
   "source": [
    "# 1 Revenu brut total par ligne de produit\n",
    "revenu_ligne_produit = df.groupby('Product_line')['gross_income'].sum().sort_values(ascending=False)\n",
    "round(revenu_ligne_produit, 2)"
   ]
  },
  {
   "cell_type": "code",
   "execution_count": 55,
   "id": "e39ad749-7256-4b8a-aabe-82db6f8e117a",
   "metadata": {},
   "outputs": [
    {
     "data": {
      "text/plain": [
       "Product_line\n",
       "Electronic accessories    971\n",
       "Food and beverages        952\n",
       "Sports and travel         920\n",
       "Home and lifestyle        911\n",
       "Fashion accessories       902\n",
       "Health and beauty         854\n",
       "Name: Quantity, dtype: int64"
      ]
     },
     "execution_count": 55,
     "metadata": {},
     "output_type": "execute_result"
    }
   ],
   "source": [
    "# 2. Analyse des quantites vendues(ventes les plus eleves en termes de quantite)\n",
    "quantitevendu = df.groupby('Product_line')['Quantity'].sum().sort_values(ascending=False)\n",
    "quantitevendu"
   ]
  },
  {
   "cell_type": "code",
   "execution_count": 56,
   "id": "d3ba0c7e-6b3a-4db2-9bef-987788bb0c55",
   "metadata": {},
   "outputs": [
    {
     "data": {
      "text/plain": [
       "Product_line\n",
       "Fashion accessories       57.153652\n",
       "Sports and travel         56.993253\n",
       "Food and beverages        56.008851\n",
       "Home and lifestyle        55.316937\n",
       "Health and beauty         54.854474\n",
       "Electronic accessories    53.551588\n",
       "Name: Unit_price, dtype: float64"
      ]
     },
     "execution_count": 56,
     "metadata": {},
     "output_type": "execute_result"
    }
   ],
   "source": [
    "# 3. Analyse des prix unitaire moyens\n",
    "prixunitairesmoyens = df.groupby('Product_line')['Unit_price'].mean().sort_values(ascending=False)\n",
    "prixunitairesmoyens"
   ]
  },
  {
   "cell_type": "code",
   "execution_count": 57,
   "id": "4d761eeb-9f52-4c24-a43d-6bf1918042b5",
   "metadata": {},
   "outputs": [
    {
     "data": {
      "text/plain": [
       "City\n",
       "Naypyitaw    5265.1765\n",
       "Yangon       5057.1605\n",
       "Mandalay     5057.0320\n",
       "Name: gross_income, dtype: float64"
      ]
     },
     "execution_count": 57,
     "metadata": {},
     "output_type": "execute_result"
    }
   ],
   "source": [
    "# 4. Revenu brut total par ville\n",
    "revenue_parville = df.groupby('City')['gross_income'].sum().sort_values(ascending=False)\n",
    "revenue_parville"
   ]
  },
  {
   "cell_type": "code",
   "execution_count": 58,
   "id": "62d053a2-8790-4362-8f2f-c0b693a6a6fe",
   "metadata": {},
   "outputs": [
    {
     "data": {
      "text/html": [
       "<div>\n",
       "<style scoped>\n",
       "    .dataframe tbody tr th:only-of-type {\n",
       "        vertical-align: middle;\n",
       "    }\n",
       "\n",
       "    .dataframe tbody tr th {\n",
       "        vertical-align: top;\n",
       "    }\n",
       "\n",
       "    .dataframe thead th {\n",
       "        text-align: right;\n",
       "    }\n",
       "</style>\n",
       "<table border=\"1\" class=\"dataframe\">\n",
       "  <thead>\n",
       "    <tr style=\"text-align: right;\">\n",
       "      <th>Payment</th>\n",
       "      <th>Cash</th>\n",
       "      <th>Credit card</th>\n",
       "      <th>Ewallet</th>\n",
       "    </tr>\n",
       "    <tr>\n",
       "      <th>Product_line</th>\n",
       "      <th></th>\n",
       "      <th></th>\n",
       "      <th></th>\n",
       "    </tr>\n",
       "  </thead>\n",
       "  <tbody>\n",
       "    <tr>\n",
       "      <th>Electronic accessories</th>\n",
       "      <td>71</td>\n",
       "      <td>46</td>\n",
       "      <td>53</td>\n",
       "    </tr>\n",
       "    <tr>\n",
       "      <th>Fashion accessories</th>\n",
       "      <td>57</td>\n",
       "      <td>56</td>\n",
       "      <td>65</td>\n",
       "    </tr>\n",
       "    <tr>\n",
       "      <th>Food and beverages</th>\n",
       "      <td>57</td>\n",
       "      <td>61</td>\n",
       "      <td>56</td>\n",
       "    </tr>\n",
       "    <tr>\n",
       "      <th>Health and beauty</th>\n",
       "      <td>49</td>\n",
       "      <td>50</td>\n",
       "      <td>53</td>\n",
       "    </tr>\n",
       "    <tr>\n",
       "      <th>Home and lifestyle</th>\n",
       "      <td>51</td>\n",
       "      <td>45</td>\n",
       "      <td>64</td>\n",
       "    </tr>\n",
       "    <tr>\n",
       "      <th>Sports and travel</th>\n",
       "      <td>59</td>\n",
       "      <td>53</td>\n",
       "      <td>54</td>\n",
       "    </tr>\n",
       "  </tbody>\n",
       "</table>\n",
       "</div>"
      ],
      "text/plain": [
       "Payment                 Cash  Credit card  Ewallet\n",
       "Product_line                                      \n",
       "Electronic accessories    71           46       53\n",
       "Fashion accessories       57           56       65\n",
       "Food and beverages        57           61       56\n",
       "Health and beauty         49           50       53\n",
       "Home and lifestyle        51           45       64\n",
       "Sports and travel         59           53       54"
      ]
     },
     "execution_count": 58,
     "metadata": {},
     "output_type": "execute_result"
    }
   ],
   "source": [
    "# 5. Repartition des differentes types de paiements(identifier les preferences de paiements par categories)\n",
    "repartitiontype_paiement = df.groupby(['Product_line','Payment']).size().unstack().fillna(0)\n",
    "repartitiontype_paiement"
   ]
  },
  {
   "cell_type": "code",
   "execution_count": 59,
   "id": "83167ae3-82b0-4b71-a34e-af424dba5eeb",
   "metadata": {},
   "outputs": [],
   "source": [
    "# calcul le montant(prix unitaire* quantite)\n",
    "df['res'] = df.loc[0:5, 'Unit_price'].astype(float) * df.loc[0:5, 'Quantity'].astype(int)"
   ]
  },
  {
   "cell_type": "code",
   "execution_count": 60,
   "id": "51116873-5661-4040-8de3-1721cbc79126",
   "metadata": {},
   "outputs": [
    {
     "data": {
      "text/plain": [
       "0      522.83\n",
       "1       76.40\n",
       "2      324.31\n",
       "3      465.76\n",
       "4      604.17\n",
       "        ...  \n",
       "995       NaN\n",
       "996       NaN\n",
       "997       NaN\n",
       "998       NaN\n",
       "999       NaN\n",
       "Name: res, Length: 1000, dtype: float64"
      ]
     },
     "execution_count": 60,
     "metadata": {},
     "output_type": "execute_result"
    }
   ],
   "source": [
    "df['res']"
   ]
  },
  {
   "cell_type": "code",
   "execution_count": 61,
   "id": "ec95bf38-2c2f-472d-9c37-963b00734625",
   "metadata": {},
   "outputs": [
    {
     "data": {
      "text/html": [
       "<div>\n",
       "<style scoped>\n",
       "    .dataframe tbody tr th:only-of-type {\n",
       "        vertical-align: middle;\n",
       "    }\n",
       "\n",
       "    .dataframe tbody tr th {\n",
       "        vertical-align: top;\n",
       "    }\n",
       "\n",
       "    .dataframe thead th {\n",
       "        text-align: right;\n",
       "    }\n",
       "</style>\n",
       "<table border=\"1\" class=\"dataframe\">\n",
       "  <thead>\n",
       "    <tr style=\"text-align: right;\">\n",
       "      <th></th>\n",
       "      <th>Invoice_ID</th>\n",
       "      <th>Branch</th>\n",
       "      <th>City</th>\n",
       "      <th>Customer_type</th>\n",
       "      <th>Gender</th>\n",
       "      <th>Product_line</th>\n",
       "      <th>Unit_price</th>\n",
       "      <th>Quantity</th>\n",
       "      <th>Tax_5%</th>\n",
       "    </tr>\n",
       "  </thead>\n",
       "  <tbody>\n",
       "    <tr>\n",
       "      <th>0</th>\n",
       "      <td>750-67-8428</td>\n",
       "      <td>A</td>\n",
       "      <td>Yangon</td>\n",
       "      <td>Member</td>\n",
       "      <td>Female</td>\n",
       "      <td>Health and beauty</td>\n",
       "      <td>74.69</td>\n",
       "      <td>7</td>\n",
       "      <td>26.1415</td>\n",
       "    </tr>\n",
       "    <tr>\n",
       "      <th>1</th>\n",
       "      <td>226-31-3081</td>\n",
       "      <td>C</td>\n",
       "      <td>Naypyitaw</td>\n",
       "      <td>Normal</td>\n",
       "      <td>Female</td>\n",
       "      <td>Electronic accessories</td>\n",
       "      <td>15.28</td>\n",
       "      <td>5</td>\n",
       "      <td>3.8200</td>\n",
       "    </tr>\n",
       "    <tr>\n",
       "      <th>2</th>\n",
       "      <td>631-41-3108</td>\n",
       "      <td>A</td>\n",
       "      <td>Yangon</td>\n",
       "      <td>Normal</td>\n",
       "      <td>Male</td>\n",
       "      <td>Home and lifestyle</td>\n",
       "      <td>46.33</td>\n",
       "      <td>7</td>\n",
       "      <td>16.2155</td>\n",
       "    </tr>\n",
       "    <tr>\n",
       "      <th>3</th>\n",
       "      <td>123-19-1176</td>\n",
       "      <td>A</td>\n",
       "      <td>Yangon</td>\n",
       "      <td>Member</td>\n",
       "      <td>Male</td>\n",
       "      <td>Health and beauty</td>\n",
       "      <td>58.22</td>\n",
       "      <td>8</td>\n",
       "      <td>23.2880</td>\n",
       "    </tr>\n",
       "    <tr>\n",
       "      <th>4</th>\n",
       "      <td>373-73-7910</td>\n",
       "      <td>A</td>\n",
       "      <td>Yangon</td>\n",
       "      <td>Normal</td>\n",
       "      <td>Male</td>\n",
       "      <td>Sports and travel</td>\n",
       "      <td>86.31</td>\n",
       "      <td>7</td>\n",
       "      <td>30.2085</td>\n",
       "    </tr>\n",
       "  </tbody>\n",
       "</table>\n",
       "</div>"
      ],
      "text/plain": [
       "    Invoice_ID Branch       City Customer_type  Gender  \\\n",
       "0  750-67-8428      A     Yangon        Member  Female   \n",
       "1  226-31-3081      C  Naypyitaw        Normal  Female   \n",
       "2  631-41-3108      A     Yangon        Normal    Male   \n",
       "3  123-19-1176      A     Yangon        Member    Male   \n",
       "4  373-73-7910      A     Yangon        Normal    Male   \n",
       "\n",
       "             Product_line  Unit_price  Quantity   Tax_5%  \n",
       "0       Health and beauty       74.69         7  26.1415  \n",
       "1  Electronic accessories       15.28         5   3.8200  \n",
       "2      Home and lifestyle       46.33         7  16.2155  \n",
       "3       Health and beauty       58.22         8  23.2880  \n",
       "4       Sports and travel       86.31         7  30.2085  "
      ]
     },
     "execution_count": 61,
     "metadata": {},
     "output_type": "execute_result"
    }
   ],
   "source": [
    "df.iloc[0:5, 0:9]"
   ]
  },
  {
   "cell_type": "code",
   "execution_count": 62,
   "id": "cd6b3ef5-acab-4ede-950d-e038103c7537",
   "metadata": {},
   "outputs": [
    {
     "data": {
      "text/html": [
       "<div>\n",
       "<style scoped>\n",
       "    .dataframe tbody tr th:only-of-type {\n",
       "        vertical-align: middle;\n",
       "    }\n",
       "\n",
       "    .dataframe tbody tr th {\n",
       "        vertical-align: top;\n",
       "    }\n",
       "\n",
       "    .dataframe thead th {\n",
       "        text-align: right;\n",
       "    }\n",
       "</style>\n",
       "<table border=\"1\" class=\"dataframe\">\n",
       "  <thead>\n",
       "    <tr style=\"text-align: right;\">\n",
       "      <th></th>\n",
       "      <th>cogs</th>\n",
       "      <th>gross_margin_percentage</th>\n",
       "      <th>Rating</th>\n",
       "      <th>gross_income</th>\n",
       "      <th>Payment</th>\n",
       "    </tr>\n",
       "  </thead>\n",
       "  <tbody>\n",
       "    <tr>\n",
       "      <th>0</th>\n",
       "      <td>522.83</td>\n",
       "      <td>4.761905</td>\n",
       "      <td>9.1</td>\n",
       "      <td>26.1415</td>\n",
       "      <td>Ewallet</td>\n",
       "    </tr>\n",
       "    <tr>\n",
       "      <th>1</th>\n",
       "      <td>76.40</td>\n",
       "      <td>4.761905</td>\n",
       "      <td>9.6</td>\n",
       "      <td>3.8200</td>\n",
       "      <td>Cash</td>\n",
       "    </tr>\n",
       "    <tr>\n",
       "      <th>2</th>\n",
       "      <td>324.31</td>\n",
       "      <td>4.761905</td>\n",
       "      <td>7.4</td>\n",
       "      <td>16.2155</td>\n",
       "      <td>Credit card</td>\n",
       "    </tr>\n",
       "    <tr>\n",
       "      <th>3</th>\n",
       "      <td>465.76</td>\n",
       "      <td>4.761905</td>\n",
       "      <td>8.4</td>\n",
       "      <td>23.2880</td>\n",
       "      <td>Ewallet</td>\n",
       "    </tr>\n",
       "    <tr>\n",
       "      <th>4</th>\n",
       "      <td>604.17</td>\n",
       "      <td>4.761905</td>\n",
       "      <td>5.3</td>\n",
       "      <td>30.2085</td>\n",
       "      <td>Ewallet</td>\n",
       "    </tr>\n",
       "    <tr>\n",
       "      <th>...</th>\n",
       "      <td>...</td>\n",
       "      <td>...</td>\n",
       "      <td>...</td>\n",
       "      <td>...</td>\n",
       "      <td>...</td>\n",
       "    </tr>\n",
       "    <tr>\n",
       "      <th>995</th>\n",
       "      <td>40.35</td>\n",
       "      <td>4.761905</td>\n",
       "      <td>6.2</td>\n",
       "      <td>2.0175</td>\n",
       "      <td>Ewallet</td>\n",
       "    </tr>\n",
       "    <tr>\n",
       "      <th>996</th>\n",
       "      <td>973.80</td>\n",
       "      <td>4.761905</td>\n",
       "      <td>4.4</td>\n",
       "      <td>48.6900</td>\n",
       "      <td>Ewallet</td>\n",
       "    </tr>\n",
       "    <tr>\n",
       "      <th>997</th>\n",
       "      <td>31.84</td>\n",
       "      <td>4.761905</td>\n",
       "      <td>7.7</td>\n",
       "      <td>1.5920</td>\n",
       "      <td>Cash</td>\n",
       "    </tr>\n",
       "    <tr>\n",
       "      <th>998</th>\n",
       "      <td>65.82</td>\n",
       "      <td>4.761905</td>\n",
       "      <td>4.1</td>\n",
       "      <td>3.2910</td>\n",
       "      <td>Cash</td>\n",
       "    </tr>\n",
       "    <tr>\n",
       "      <th>999</th>\n",
       "      <td>618.38</td>\n",
       "      <td>4.761905</td>\n",
       "      <td>6.6</td>\n",
       "      <td>30.9190</td>\n",
       "      <td>Cash</td>\n",
       "    </tr>\n",
       "  </tbody>\n",
       "</table>\n",
       "<p>1000 rows × 5 columns</p>\n",
       "</div>"
      ],
      "text/plain": [
       "       cogs  gross_margin_percentage  Rating  gross_income      Payment\n",
       "0    522.83                 4.761905     9.1       26.1415      Ewallet\n",
       "1     76.40                 4.761905     9.6        3.8200         Cash\n",
       "2    324.31                 4.761905     7.4       16.2155  Credit card\n",
       "3    465.76                 4.761905     8.4       23.2880      Ewallet\n",
       "4    604.17                 4.761905     5.3       30.2085      Ewallet\n",
       "..      ...                      ...     ...           ...          ...\n",
       "995   40.35                 4.761905     6.2        2.0175      Ewallet\n",
       "996  973.80                 4.761905     4.4       48.6900      Ewallet\n",
       "997   31.84                 4.761905     7.7        1.5920         Cash\n",
       "998   65.82                 4.761905     4.1        3.2910         Cash\n",
       "999  618.38                 4.761905     6.6       30.9190         Cash\n",
       "\n",
       "[1000 rows x 5 columns]"
      ]
     },
     "execution_count": 62,
     "metadata": {},
     "output_type": "execute_result"
    }
   ],
   "source": [
    "df[['cogs','gross_margin_percentage','Rating','gross_income','Payment']]"
   ]
  },
  {
   "cell_type": "markdown",
   "id": "b77abd35-9859-4c4d-b37e-e56656daf04c",
   "metadata": {},
   "source": [
    "##### 9.\tLes clients ayant un certain score de satisfaction (Rating) tendent-ils à acheter des produits spécifiques ? "
   ]
  },
  {
   "cell_type": "code",
   "execution_count": 63,
   "id": "7eb28c7d-7663-4c98-ab48-57dfde836ff5",
   "metadata": {},
   "outputs": [
    {
     "data": {
      "text/plain": [
       "Text(0, 0.5, 'Nombre total')"
      ]
     },
     "execution_count": 63,
     "metadata": {},
     "output_type": "execute_result"
    },
    {
     "data": {
      "image/png": "[encoded data removed]",
      "text/plain": [
       "<Figure size 640x480 with 1 Axes>"
      ]
     },
     "metadata": {},
     "output_type": "display_data"
    }
   ],
   "source": [
    "typeprod_rating = df.groupby('Product_line')['Rating'].mean().sort_values(ascending=False)\n",
    "# plt.figure(figsize=(10, 6))\n",
    "# sns.boxplot(data=df, x='Product_line', y='Rating', palette='Set3')\n",
    "# plt.title('Distribution des scores de satisfaction par catégorie de produit')\n",
    "# plt.xticks(rotation=45)\n",
    "# plt.show()\n",
    "typeprod_rating.plot(kind='bar', title='Ligne de produit par type de client')\n",
    "plt.xlabel('Type de ligne de produit')\n",
    "plt.ylabel('Nombre total')"
   ]
  },
  {
   "cell_type": "code",
   "execution_count": 64,
   "id": "61321519-35b5-431e-8f27-ead18713d890",
   "metadata": {},
   "outputs": [
    {
     "data": {
      "text/plain": [
       "(array([ 0,  1,  2,  3,  4,  5,  6,  7,  8,  9, 10, 11, 12, 13, 14, 15, 16,\n",
       "        17]),\n",
       " [Text(0, 0, '(Fashion accessories, Naypyitaw)'),\n",
       "  Text(1, 0, '(Sports and travel, Yangon)'),\n",
       "  Text(2, 0, '(Food and beverages, Yangon)'),\n",
       "  Text(3, 0, '(Electronic accessories, Mandalay)'),\n",
       "  Text(4, 0, '(Health and beauty, Mandalay)'),\n",
       "  Text(5, 0, '(Food and beverages, Naypyitaw)'),\n",
       "  Text(6, 0, '(Home and lifestyle, Naypyitaw)'),\n",
       "  Text(7, 0, '(Sports and travel, Naypyitaw)'),\n",
       "  Text(8, 0, '(Health and beauty, Naypyitaw)'),\n",
       "  Text(9, 0, '(Food and beverages, Mandalay)'),\n",
       "  Text(10, 0, '(Home and lifestyle, Yangon)'),\n",
       "  Text(11, 0, '(Electronic accessories, Yangon)'),\n",
       "  Text(12, 0, '(Health and beauty, Yangon)'),\n",
       "  Text(13, 0, '(Fashion accessories, Yangon)'),\n",
       "  Text(14, 0, '(Electronic accessories, Naypyitaw)'),\n",
       "  Text(15, 0, '(Fashion accessories, Mandalay)'),\n",
       "  Text(16, 0, '(Home and lifestyle, Mandalay)'),\n",
       "  Text(17, 0, '(Sports and travel, Mandalay)')])"
      ]
     },
     "execution_count": 64,
     "metadata": {},
     "output_type": "execute_result"
    },
    {
     "data": {
      "image/png": "[encoded data removed]",
      "text/plain": [
       "<Figure size 640x480 with 1 Axes>"
      ]
     },
     "metadata": {},
     "output_type": "display_data"
    }
   ],
   "source": [
    "# moyenne de produit vendus par ville\n",
    "typeprodrating_ville = df.groupby(['Product_line','City'])['Rating'].mean().sort_values(ascending=False)\n",
    "typeprodrating_ville.plot(kind='bar')\n",
    "plt.xticks(rotation=85)"
   ]
  },
  {
   "cell_type": "markdown",
   "id": "86083eeb-30ee-496e-b7a0-896575a581ac",
   "metadata": {},
   "source": [
    "##### 10.\tLes variations de prix unitaire influencent-elles les quantités vendues ? \n",
    "\n",
    "Pour analyser si les variations de prix unitaire influencent les quantités vendues, voici l'approche analytique que nous allons suivre :\n",
    "1. Relation entre prix unitaire et quantités vendues\n",
    "Nous examinerons si les produits avec un prix unitaire élevé ont tendance à être vendus en plus petite quantité et inversement. Cela peut être fait en calculant la corrélation entre ces deux variables.\n",
    "\n",
    "##### NB\n",
    "Si la corrélation est négative, cela suggère que les produits chers sont vendus en plus petites quantités.\n",
    "Une corrélation proche de zéro indique peu ou pas de lien entre le prix et les quantités vendues.\n",
    "Les différences entre catégories pourraient indiquer des comportements d'achat spécifiques."
   ]
  },
  {
   "cell_type": "code",
   "execution_count": 69,
   "id": "284dce38-742f-4f2a-a467-3a1695cb7be6",
   "metadata": {},
   "outputs": [
    {
     "name": "stdout",
     "output_type": "stream",
     "text": [
      "Corrélation entre le prix unitaire et les quantités vendues : 0.01\n",
      " il ny'a pas de lien entre le prix et les quantites vendues.\n"
     ]
    },
    {
     "data": {
      "image/png": "[encoded data removed]",
      "text/plain": [
       "<Figure size 640x480 with 1 Axes>"
      ]
     },
     "metadata": {},
     "output_type": "display_data"
    }
   ],
   "source": [
    "correlation = df['Unit_price'].corr(df['Quantity'])\n",
    "print(f\"Corrélation entre le prix unitaire et les quantités vendues : {correlation:.2f}\\n il ny'a pas de lien entre le prix et les quantites vendues.\")\n",
    "# Nuage de points pour visualiser la relation\n",
    "# plt.figure(figsize=(8, 6))\n",
    "# sns.scatterplot(data=df, x='Unit_price', y='Quantity', alpha=0.6)\n",
    "plt.scatter(df['Unit_price'], df['Quantity'])\n",
    "plt.title('Relation entre le prix unitaire et les quantités vendues')\n",
    "plt.xlabel('Prix unitaire')\n",
    "plt.ylabel('Quantités vendues')\n",
    "plt.show()"
   ]
  },
  {
   "cell_type": "code",
   "execution_count": 66,
   "id": "1df7a33a-e681-4079-be5a-085c0930c17b",
   "metadata": {},
   "outputs": [],
   "source": [
    "##### Analyse par categorie de produit"
   ]
  }
 ],
 "metadata": {
  "kernelspec": {
   "display_name": "Python 3 (ipykernel)",
   "language": "python",
   "name": "python3"
  },
  "language_info": {
   "codemirror_mode": {
    "name": "ipython",
    "version": 3
   },
   "file_extension": ".py",
   "mimetype": "text/x-python",
   "name": "python",
   "nbconvert_exporter": "python",
   "pygments_lexer": "ipython3",
   "version": "3.12.0"
  },
  "widgets": {
   "application/vnd.jupyter.widget-state+json": {
    "state": {},
    "version_major": 2,
    "version_minor": 0
   }
  }
 },
 "nbformat": 4,
 "nbformat_minor": 5
}
